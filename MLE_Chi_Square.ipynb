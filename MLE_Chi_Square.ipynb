{
  "nbformat": 4,
  "nbformat_minor": 0,
  "metadata": {
    "colab": {
      "provenance": [],
      "authorship_tag": "ABX9TyNzjLehreFnilGkv8b6nGfm",
      "include_colab_link": true
    },
    "kernelspec": {
      "name": "python3",
      "display_name": "Python 3"
    },
    "language_info": {
      "name": "python"
    }
  },
  "cells": [
    {
      "cell_type": "markdown",
      "metadata": {
        "id": "view-in-github",
        "colab_type": "text"
      },
      "source": [
        "<a href=\"https://colab.research.google.com/github/jburchfield76/datasharing/blob/master/MLE_Chi_Square.ipynb\" target=\"_parent\"><img src=\"https://colab.research.google.com/assets/colab-badge.svg\" alt=\"Open In Colab\"/></a>"
      ]
    },
    {
      "cell_type": "code",
      "execution_count": null,
      "metadata": {
        "id": "EW_8LDHOKdpT"
      },
      "outputs": [],
      "source": [
        "import numpy as np\n",
        "import matplotlib.pyplot as plt\n",
        "import scipy.stats as stats\n",
        "from scipy.optimize import minimize\n",
        "from scipy.special import gammaln  # Log gamma function\n",
        "\n",
        "# Step 1: Generate synthetic data from a Chi-Square distribution\n",
        "np.random.seed(42)  # For reproducibility\n",
        "true_k = 5          # True degrees of freedom\n",
        "n = 100             # Sample size\n",
        "\n",
        "data = np.random.chisquare(df=true_k, size=n)  # Generate Chi-Square distributed data\n",
        "\n",
        "# Step 2: Define the log-likelihood function\n",
        "def neg_log_likelihood(k, data):\n",
        "    \"\"\"\n",
        "    Computes the negative log-likelihood for the Chi-Square distribution.\n",
        "    Since optimization functions minimize, we take the negative of log-likelihood.\n",
        "    \"\"\"\n",
        "    if k <= 0:  # k must be positive\n",
        "        return np.inf\n",
        "    log_likelihood = np.sum((k/2 - 1) * np.log(data) - data/2 - (k/2) * np.log(2) - gammaln(k/2))\n",
        "    return -log_likelihood  # We return the negative log-likelihood for minimization\n",
        "\n",
        "# Step 3: Optimize to find MLE for k\n",
        "result = minimize(neg_log_likelihood, x0=[2], args=(data,), bounds=[(0.1, None)])  # Start search at k=2\n",
        "mle_k = result.x[0]  # Extract MLE estimate for k\n",
        "\n",
        "# Print results\n",
        "print(f\"True k: {true_k}, MLE estimated k: {mle_k:.4f}\")\n",
        "\n",
        "# Step 4: Visualizing the results\n",
        "x = np.linspace(0, max(data), 1000)\n",
        "true_pdf = stats.chi2.pdf(x, df=true_k)  # True Chi-Square PDF\n",
        "mle_pdf = stats.chi2.pdf(x, df=mle_k)  # MLE estimated Chi-Square PDF\n",
        "\n",
        "plt.hist(data, bins=15, density=True, alpha=0.6, color='g', label=\"Sample Data\")\n",
        "plt.plot(x, true_pdf, 'r--', label=\"True Distribution\")\n",
        "plt.plot(x, mle_pdf, 'b-', label=\"MLE Estimated Distribution\")\n",
        "plt.xlabel(\"Value\")\n",
        "plt.ylabel(\"Density\")\n",
        "plt.title(\"MLE Estimation of Chi-Square Distribution\")\n",
        "plt.legend()\n",
        "plt.show()\n"
      ]
    }
  ]
}