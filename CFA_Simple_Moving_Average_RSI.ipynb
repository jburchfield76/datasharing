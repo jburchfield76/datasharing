{
  "nbformat": 4,
  "nbformat_minor": 0,
  "metadata": {
    "colab": {
      "provenance": [],
      "authorship_tag": "ABX9TyMZYW/NzXov3wzrQ1a9M+FN",
      "include_colab_link": true
    },
    "kernelspec": {
      "name": "python3",
      "display_name": "Python 3"
    },
    "language_info": {
      "name": "python"
    }
  },
  "cells": [
    {
      "cell_type": "markdown",
      "metadata": {
        "id": "view-in-github",
        "colab_type": "text"
      },
      "source": [
        "<a href=\"https://colab.research.google.com/github/jburchfield76/datasharing/blob/master/CFA_Simple_Moving_Average_RSI.ipynb\" target=\"_parent\"><img src=\"https://colab.research.google.com/assets/colab-badge.svg\" alt=\"Open In Colab\"/></a>"
      ]
    },
    {
      "cell_type": "code",
      "execution_count": 5,
      "metadata": {
        "colab": {
          "base_uri": "https://localhost:8080/"
        },
        "id": "3jF4z-q1Cqaq",
        "outputId": "4826c726-07a2-40e1-d220-235deb333893"
      },
      "outputs": [
        {
          "output_type": "stream",
          "name": "stdout",
          "text": [
            "SMA:\n",
            " 0        NaN\n",
            "1        NaN\n",
            "2        NaN\n",
            "3        NaN\n",
            "4     103.00\n",
            "5     104.20\n",
            "6     105.60\n",
            "7     107.60\n",
            "8     108.60\n",
            "9     109.62\n",
            "10    110.60\n",
            "11    111.66\n",
            "12    111.94\n",
            "13    112.32\n",
            "14    112.62\n",
            "15    112.88\n",
            "16    112.72\n",
            "17    113.28\n",
            "18    113.84\n",
            "19    113.82\n",
            "20    114.26\n",
            "21    114.34\n",
            "22    114.34\n",
            "23    114.56\n",
            "24    115.08\n",
            "25    115.14\n",
            "dtype: float64\n",
            "\n",
            "RSI:\n",
            " 0           NaN\n",
            "1           NaN\n",
            "2           NaN\n",
            "3           NaN\n",
            "4           NaN\n",
            "5           NaN\n",
            "6           NaN\n",
            "7           NaN\n",
            "8           NaN\n",
            "9           NaN\n",
            "10          NaN\n",
            "11          NaN\n",
            "12          NaN\n",
            "13    73.705179\n",
            "14    75.373134\n",
            "15    69.465649\n",
            "16    73.584906\n",
            "17    71.074380\n",
            "18    66.960352\n",
            "19    66.375546\n",
            "20    62.980769\n",
            "21    57.512953\n",
            "22    63.265306\n",
            "23    60.220994\n",
            "24    65.116279\n",
            "25    51.315789\n",
            "dtype: float64\n"
          ]
        }
      ],
      "source": [
        "import pandas as pd\n",
        "\n",
        "def calculate_sma(data, window): #window is number of data pts in avg.\n",
        "    return data.rolling(window=window).mean() #.rolling method creates rolling window of size window over data\n",
        "\n",
        "def calculate_rsi(data, window=14): #RSI is momentum indicator, measures speed and change of price movements\n",
        "    delta = data.diff()             #default lookback window is 14, .diff computes difference b/n consecutive values\n",
        "    gain = (delta.where(delta > 0, 0)).rolling(window).mean() #keeps +values in delta (price increases), replaces non-positives with 0\n",
        "    loss = (-delta.where(delta < 0, 0)).rolling(window).mean() #keeps -values in delta (p decreases), replaces non-negatives with 0\n",
        "    rs = gain / loss                  # -delta converts negative numbers to positive. Relative strength=gain/loss\n",
        "    return 100 - (100 / (1 + rs))    #ratio of avg. gain to avg. loss. RSI formula normalizes it to a value 0-100.\n",
        "\n",
        "# Example usage with dummy data\n",
        "prices = pd.Series([100, 102, 101, 105, 107, 106, 109, 111, 110, 112.1, 110.9, 114.3, 112.4, 111.9, 113.6, 112.2, 113.5, 115.2, 114.7, 113.5, 114.4, 113.9, 115.2, 115.8, 116.1, 114.7])\n",
        "sma = calculate_sma(prices, window=5)\n",
        "rsi = calculate_rsi(prices)    #want at least 14 prices, since default lookback is 14. If not, RSI will be mostly NaN\n",
        "\n",
        "print(\"SMA:\\n\", sma)      #simple moving average\n",
        "print(\"\\nRSI:\\n\", rsi)    #relative strength index\n"
      ]
    }
  ]
}