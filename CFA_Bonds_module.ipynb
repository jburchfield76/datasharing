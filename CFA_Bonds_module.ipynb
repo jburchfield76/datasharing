{
  "nbformat": 4,
  "nbformat_minor": 0,
  "metadata": {
    "colab": {
      "provenance": [],
      "authorship_tag": "ABX9TyOBIP3FA86LO5Y8uAzG1p/x",
      "include_colab_link": true
    },
    "kernelspec": {
      "name": "python3",
      "display_name": "Python 3"
    },
    "language_info": {
      "name": "python"
    }
  },
  "cells": [
    {
      "cell_type": "markdown",
      "metadata": {
        "id": "view-in-github",
        "colab_type": "text"
      },
      "source": [
        "<a href=\"https://colab.research.google.com/github/jburchfield76/datasharing/blob/master/CFA_Bonds_module.ipynb\" target=\"_parent\"><img src=\"https://colab.research.google.com/assets/colab-badge.svg\" alt=\"Open In Colab\"/></a>"
      ]
    },
    {
      "cell_type": "code",
      "execution_count": 1,
      "metadata": {
        "id": "AIwye4pHIwbY"
      },
      "outputs": [],
      "source": [
        "# bonds.py\n",
        "\n",
        "from typing import List\n",
        "\n",
        "def bond_price(face_value: float, coupon_rate: float, periods: int, ytm: float) -> float:\n",
        "    \"\"\"\n",
        "    Calculate the price of a bond.\n",
        "\n",
        "    Parameters:\n",
        "        face_value (float): The bond's face/par value.\n",
        "        coupon_rate (float): Annual coupon rate as a decimal (e.g., 0.05 for 5%).\n",
        "        periods (int): Number of periods until maturity.\n",
        "        ytm (float): Yield to maturity as a decimal.\n",
        "\n",
        "    Returns:\n",
        "        float: Present value of the bond (i.e., price).\n",
        "    \"\"\"\n",
        "    coupon = face_value * coupon_rate\n",
        "    pv_coupons = sum([coupon / (1 + ytm) ** t for t in range(1, periods + 1)])\n",
        "    pv_face = face_value / (1 + ytm) ** periods\n",
        "    return round(pv_coupons + pv_face, 2)\n",
        "\n",
        "\n",
        "def bond_ytm(price: float, face_value: float, coupon_rate: float, periods: int, guess: float = 0.05) -> float:\n",
        "    \"\"\"\n",
        "    Estimate yield to maturity (YTM) using Newton-Raphson method.\n",
        "\n",
        "    Parameters:\n",
        "        price (float): Current market price of the bond.\n",
        "        face_value (float): Face value of the bond.\n",
        "        coupon_rate (float): Annual coupon rate as a decimal.\n",
        "        periods (int): Number of periods until maturity.\n",
        "        guess (float): Initial guess for YTM.\n",
        "\n",
        "    Returns:\n",
        "        float: Estimated YTM.\n",
        "    \"\"\"\n",
        "    from scipy.optimize import newton\n",
        "\n",
        "    coupon = face_value * coupon_rate\n",
        "\n",
        "    def f(r):\n",
        "        return sum([coupon / (1 + r) ** t for t in range(1, periods + 1)]) + face_value / (1 + r) ** periods - price\n",
        "\n",
        "    return round(newton(f, guess), 6)\n",
        "\n",
        "\n",
        "def bond_duration(face_value: float, coupon_rate: float, periods: int, ytm: float) -> float:\n",
        "    \"\"\"\n",
        "    Calculate Macaulay Duration of a bond.\n",
        "\n",
        "    Parameters:\n",
        "        face_value (float): Face value of the bond.\n",
        "        coupon_rate (float): Annual coupon rate.\n",
        "        periods (int): Number of periods.\n",
        "        ytm (float): Yield to maturity.\n",
        "\n",
        "    Returns:\n",
        "        float: Duration in years.\n",
        "    \"\"\"\n",
        "    coupon = face_value * coupon_rate\n",
        "    cash_flows = [(t, coupon / (1 + ytm) ** t) for t in range(1, periods + 1)]\n",
        "    cash_flows.append((periods, face_value / (1 + ytm) ** periods))\n",
        "\n",
        "    total_pv = sum(cf for t, cf in cash_flows)\n",
        "    weighted_sum = sum(t * cf for t, cf in cash_flows)\n",
        "\n",
        "    return round(weighted_sum / total_pv, 4)\n",
        "\n"
      ]
    },
    {
      "cell_type": "code",
      "source": [
        "# Add to bonds.py\n",
        "\n",
        "import matplotlib.pyplot as plt\n",
        "\n",
        "def plot_cash_flows(face_value: float, coupon_rate: float, periods: int):\n",
        "    \"\"\"\n",
        "    Plot bond cash flows over time.\n",
        "\n",
        "    Parameters:\n",
        "        face_value (float): Face value of the bond.\n",
        "        coupon_rate (float): Annual coupon rate.\n",
        "        periods (int): Number of periods.\n",
        "    \"\"\"\n",
        "    coupon = face_value * coupon_rate\n",
        "    cash_flows = [coupon] * (periods - 1) + [coupon + face_value]\n",
        "\n",
        "    plt.figure(figsize=(8, 4))\n",
        "    plt.bar(range(1, periods + 1), cash_flows, color='skyblue', edgecolor='black')\n",
        "    plt.title(\"Bond Cash Flows Over Time\")\n",
        "    plt.xlabel(\"Period\")\n",
        "    plt.ylabel(\"Cash Flow ($)\")\n",
        "    plt.grid(True, linestyle='--', alpha=0.5)\n",
        "    plt.tight_layout()\n",
        "    plt.show()\n"
      ],
      "metadata": {
        "id": "JiOoGNRbKs5w"
      },
      "execution_count": 2,
      "outputs": []
    },
    {
      "cell_type": "code",
      "source": [
        "def plot_price_vs_ytm(face_value: float, coupon_rate: float, periods: int):\n",
        "    \"\"\"\n",
        "    Plot bond price sensitivity to changes in YTM.\n",
        "\n",
        "    Parameters:\n",
        "        face_value (float): Face value of the bond.\n",
        "        coupon_rate (float): Annual coupon rate.\n",
        "        periods (int): Number of periods.\n",
        "    \"\"\"\n",
        "    import numpy as np\n",
        "\n",
        "    ytm_range = np.linspace(0.01, 0.15, 100)\n",
        "    prices = [bond_price(face_value, coupon_rate, periods, ytm) for ytm in ytm_range]\n",
        "\n",
        "    plt.figure(figsize=(8, 4))\n",
        "    plt.plot(ytm_range * 100, prices, label=\"Price vs. YTM\", color='navy')\n",
        "    plt.xlabel(\"Yield to Maturity (%)\")\n",
        "    plt.ylabel(\"Bond Price ($)\")\n",
        "    plt.title(\"Bond Price Sensitivity to YTM\")\n",
        "    plt.grid(True, linestyle='--', alpha=0.5)\n",
        "    plt.tight_layout()\n",
        "    plt.show()\n"
      ],
      "metadata": {
        "id": "9SPUoLFlK2Sc"
      },
      "execution_count": 3,
      "outputs": []
    },
    {
      "cell_type": "code",
      "source": [
        "# sample_bond_data.py    #could also use .csv or .json etc.\n",
        "\n",
        "import pandas as pd\n",
        "\n",
        "def load_sample_bond_data():\n",
        "    \"\"\"\n",
        "    Load synthetic bond data for testing.\n",
        "\n",
        "    Returns:\n",
        "        pd.DataFrame: Sample dataset\n",
        "    \"\"\"\n",
        "    data = {\n",
        "        \"Bond\": [\"A\", \"B\", \"C\"],\n",
        "        \"Face Value\": [1000, 1000, 1000],\n",
        "        \"Coupon Rate\": [0.05, 0.04, 0.06],\n",
        "        \"Periods\": [10, 5, 20],\n",
        "        \"YTM\": [0.045, 0.035, 0.055]\n",
        "    }\n",
        "    return pd.DataFrame(data)\n",
        "\n",
        "# Usage:\n",
        "# df = load_sample_bond_data()\n"
      ],
      "metadata": {
        "id": "MaxaYaqvLDXU"
      },
      "execution_count": 4,
      "outputs": []
    }
  ]
}