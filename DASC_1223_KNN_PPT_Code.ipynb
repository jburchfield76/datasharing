{
  "nbformat": 4,
  "nbformat_minor": 0,
  "metadata": {
    "colab": {
      "provenance": [],
      "authorship_tag": "ABX9TyODbDUKCtOGy1bHOJMggj9p",
      "include_colab_link": true
    },
    "kernelspec": {
      "name": "python3",
      "display_name": "Python 3"
    },
    "language_info": {
      "name": "python"
    }
  },
  "cells": [
    {
      "cell_type": "markdown",
      "metadata": {
        "id": "view-in-github",
        "colab_type": "text"
      },
      "source": [
        "<a href=\"https://colab.research.google.com/github/jburchfield76/datasharing/blob/master/DASC_1223_KNN_PPT_Code.ipynb\" target=\"_parent\"><img src=\"https://colab.research.google.com/assets/colab-badge.svg\" alt=\"Open In Colab\"/></a>"
      ]
    },
    {
      "cell_type": "code",
      "execution_count": 8,
      "metadata": {
        "colab": {
          "base_uri": "https://localhost:8080/"
        },
        "id": "RaUT740k3RrN",
        "outputId": "435bfd37-b2b6-47a3-9202-ca6a4cd0e762"
      },
      "outputs": [
        {
          "output_type": "stream",
          "name": "stdout",
          "text": [
            "Prediction (1=Pass, 0=Fail): 1\n"
          ]
        }
      ],
      "source": [
        "from sklearn.neighbors import KNeighborsClassifier\n",
        "import numpy as np\n",
        "# Sample data: [hours_studied, attendance_rate]\n",
        "X = np.array([\n",
        "    [10, 90],  # Passed\n",
        "    [8, 85],   # Passed\n",
        "    [2, 30],   # Failed\n",
        "    [4, 50],   # Failed\n",
        "    [9, 80],   # Passed\n",
        "    [3, 40]    # Failed\n",
        "])\n",
        "# Labels: 1 = Passed, 0 = Failed\n",
        "y = np.array([1, 1, 0, 0, 1, 0])\n",
        "# Create KNN classifier with k=3\n",
        "knn = KNeighborsClassifier(n_neighbors=3)\n",
        "knn.fit(X, y)\n",
        "# New student data: studied 6 hours, 70% attendance\n",
        "new_student = np.array([[6, 70]])\n",
        "prediction = knn.predict(new_student)\n",
        "print(\"Prediction (1=Pass, 0=Fail):\", prediction[0])\n"
      ]
    },
    {
      "cell_type": "code",
      "source": [
        "from sklearn.model_selection import KFold\n",
        "from sklearn.neighbors import KNeighborsClassifier\n",
        "from sklearn.metrics import accuracy_score\n",
        "import numpy as np\n",
        "# Sample data\n",
        "X = np.array([[10, 90], [8, 85], [2, 30], [4, 50], [9, 80],\n",
        "              [3, 40], [7, 75], [6, 65], [5, 60], [1, 20]])\n",
        "y = np.array([1, 1, 0, 0, 1, 0, 1, 1, 0, 0])\n",
        "# KNN model\n",
        "knn = KNeighborsClassifier(n_neighbors=3)\n",
        "# 5-Fold Cross-Validation\n",
        "kf = KFold(n_splits=5, shuffle=True, random_state=42)\n",
        "accuracies = []\n",
        "for train_idx, test_idx in kf.split(X):\n",
        "    knn.fit(X[train_idx], y[train_idx])\n",
        "    y_pred = knn.predict(X[test_idx])\n",
        "    acc = accuracy_score(y[test_idx], y_pred)\n",
        "    accuracies.append(acc)\n",
        "print(\"Fold Accuracies:\", accuracies)\n",
        "print(\"Average Accuracy:\", np.mean(accuracies))\n"
      ],
      "metadata": {
        "colab": {
          "base_uri": "https://localhost:8080/"
        },
        "id": "oXpWqCRj384J",
        "outputId": "6af5b98f-2143-4704-ce27-707e28ed774f"
      },
      "execution_count": 3,
      "outputs": [
        {
          "output_type": "stream",
          "name": "stdout",
          "text": [
            "Fold Accuracies: [0.5, 1.0, 0.5, 1.0, 1.0]\n",
            "Average Accuracy: 0.8\n"
          ]
        }
      ]
    },
    {
      "cell_type": "code",
      "source": [
        "from sklearn.neighbors import KNeighborsClassifier\n",
        "import numpy as np\n",
        "\n",
        "# Euclidean (default)\n",
        "knn = KNeighborsClassifier(n_neighbors=3, metric='euclidean')\n",
        "knn.fit(X, y)\n",
        "\n",
        "test_point = np.array([[6, 70]]) #Points in our examples\n",
        "distances, indices = knn.kneighbors(test_point)\n",
        "print(\"Indices of Nearest Neighbors:\", indices)\n",
        "print(\"Test point\", test_point)\n",
        "print(\"Neighbor indices:\", indices)\n",
        "print(\"Euclidian distances to neighbors:\", distances)\n",
        "\n",
        "# Manhattan CAN COPY ABOVE FOR OTHER 2 DISTANCE METRICS\n",
        "#knn = KNeighborsClassifier(n_neighbors=3, metric='manhattan')\n",
        "# Minkowski with p=3\n",
        "#knn = KNeighborsClassifier(n_neighbors=3, metric='minkowski', p=3)\n",
        "#print(\"Manhattan:\", knn_ma)\n",
        "#print(\"Minkowski (p=3):\", knn_mi)\n"
      ],
      "metadata": {
        "colab": {
          "base_uri": "https://localhost:8080/"
        },
        "id": "_uFpgUjn5E0g",
        "outputId": "367c81da-14f8-4be2-b75e-e87af9b3323f"
      },
      "execution_count": 11,
      "outputs": [
        {
          "output_type": "stream",
          "name": "stdout",
          "text": [
            "Indices of Nearest Neighbors: [[4 1 3]]\n",
            "Test point [[ 6 70]]\n",
            "Neighbor indices: [[4 1 3]]\n",
            "Euclidian distances to neighbors: [[10.44030651 15.13274595 20.09975124]]\n"
          ]
        }
      ]
    }
  ]
}