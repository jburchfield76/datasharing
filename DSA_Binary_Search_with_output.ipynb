{
  "nbformat": 4,
  "nbformat_minor": 0,
  "metadata": {
    "colab": {
      "provenance": [],
      "authorship_tag": "ABX9TyNQbCg7GTFUd69n3VmUXqMV",
      "include_colab_link": true
    },
    "kernelspec": {
      "name": "python3",
      "display_name": "Python 3"
    },
    "language_info": {
      "name": "python"
    }
  },
  "cells": [
    {
      "cell_type": "markdown",
      "metadata": {
        "id": "view-in-github",
        "colab_type": "text"
      },
      "source": [
        "<a href=\"https://colab.research.google.com/github/jburchfield76/datasharing/blob/master/DSA_Binary_Search_with_output.ipynb\" target=\"_parent\"><img src=\"https://colab.research.google.com/assets/colab-badge.svg\" alt=\"Open In Colab\"/></a>"
      ]
    },
    {
      "cell_type": "code",
      "source": [
        "array = [2, 3, 4, 5, 6, 7, 8, 9, 10]\n",
        "\n",
        "def BinarySearch(array, key, low, high):\n",
        "    if low > high:\n",
        "        return -1\n",
        "\n",
        "    mid = low + ((high - low) // 2)\n",
        "\n",
        "    if array[mid] == key:\n",
        "        return mid\n",
        "    elif key < array[mid]:\n",
        "        return BinarySearch(array, key, low, mid - 1)\n",
        "    else:\n",
        "        return BinarySearch(array, key, mid + 1, high)\n",
        "\n",
        "# Example call\n",
        "key = 7\n",
        "result = BinarySearch(array, key, 0, len(array) - 1)\n",
        "\n",
        "if result != -1:\n",
        "    print(f\"Element found at index {result}\")\n",
        "else:\n",
        "    print(\"Element not found\")\n"
      ],
      "metadata": {
        "colab": {
          "base_uri": "https://localhost:8080/"
        },
        "id": "5UcWG0BM9zAI",
        "outputId": "9c4cd791-b23f-4ad3-9f28-36fac5c0a5b2"
      },
      "execution_count": 4,
      "outputs": [
        {
          "output_type": "stream",
          "name": "stdout",
          "text": [
            "Element found at index 5\n"
          ]
        }
      ]
    }
  ]
}