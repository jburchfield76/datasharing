{
  "nbformat": 4,
  "nbformat_minor": 0,
  "metadata": {
    "colab": {
      "provenance": [],
      "authorship_tag": "ABX9TyNa7L8e4Flk3wfAuDCS14i8",
      "include_colab_link": true
    },
    "kernelspec": {
      "name": "python3",
      "display_name": "Python 3"
    },
    "language_info": {
      "name": "python"
    }
  },
  "cells": [
    {
      "cell_type": "markdown",
      "metadata": {
        "id": "view-in-github",
        "colab_type": "text"
      },
      "source": [
        "<a href=\"https://colab.research.google.com/github/jburchfield76/datasharing/blob/master/Wk_2_DASC_1223_Time_Series.ipynb\" target=\"_parent\"><img src=\"https://colab.research.google.com/assets/colab-badge.svg\" alt=\"Open In Colab\"/></a>"
      ]
    },
    {
      "cell_type": "code",
      "source": [
        "import numpy as np\n",
        "import pandas as pd\n",
        "\n",
        "# Create a time-series dataset\n",
        "date_range = pd.date_range(start='2024-01-01', periods=10, freq='D')\n",
        "time_series_data = pd.DataFrame({\n",
        "    'Date': date_range,\n",
        "    'Value': np.random.randint(100, 200, size=10)\n",
        "})\n",
        "time_series_data.set_index('Date', inplace=True)\n",
        "print(\"\\nTime-Series Data:\")\n",
        "print(time_series_data)\n",
        "\n",
        "# Rolling average\n",
        "rolling_avg = time_series_data.rolling(window=3).mean()\n",
        "print(\"\\n3-Day Rolling Average:\")\n",
        "print(rolling_avg)\n",
        "\n",
        "# Resampling data (e.g., weekly sum)\n",
        "weekly_sum = time_series_data.resample('W').sum()\n",
        "print(\"\\nWeekly Sum:\")\n",
        "print(weekly_sum)\n"
      ],
      "metadata": {
        "colab": {
          "base_uri": "https://localhost:8080/"
        },
        "id": "9_j29ZWgkOCo",
        "outputId": "9d763ebd-d5fc-4dc5-cce3-beb64408020d"
      },
      "execution_count": null,
      "outputs": [
        {
          "output_type": "stream",
          "name": "stdout",
          "text": [
            "\n",
            "Time-Series Data:\n",
            "            Value\n",
            "Date             \n",
            "2024-01-01    175\n",
            "2024-01-02    115\n",
            "2024-01-03    165\n",
            "2024-01-04    115\n",
            "2024-01-05    111\n",
            "2024-01-06    133\n",
            "2024-01-07    189\n",
            "2024-01-08    122\n",
            "2024-01-09    131\n",
            "2024-01-10    120\n",
            "\n",
            "3-Day Rolling Average:\n",
            "                 Value\n",
            "Date                  \n",
            "2024-01-01         NaN\n",
            "2024-01-02         NaN\n",
            "2024-01-03  151.666667\n",
            "2024-01-04  131.666667\n",
            "2024-01-05  130.333333\n",
            "2024-01-06  119.666667\n",
            "2024-01-07  144.333333\n",
            "2024-01-08  148.000000\n",
            "2024-01-09  147.333333\n",
            "2024-01-10  124.333333\n",
            "\n",
            "Weekly Sum:\n",
            "            Value\n",
            "Date             \n",
            "2024-01-07   1003\n",
            "2024-01-14    373\n"
          ]
        }
      ]
    }
  ]
}