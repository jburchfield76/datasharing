{
  "nbformat": 4,
  "nbformat_minor": 0,
  "metadata": {
    "colab": {
      "provenance": [],
      "authorship_tag": "ABX9TyNOyUt40XEMY/q43au/fple",
      "include_colab_link": true
    },
    "kernelspec": {
      "name": "python3",
      "display_name": "Python 3"
    },
    "language_info": {
      "name": "python"
    }
  },
  "cells": [
    {
      "cell_type": "markdown",
      "metadata": {
        "id": "view-in-github",
        "colab_type": "text"
      },
      "source": [
        "<a href=\"https://colab.research.google.com/github/jburchfield76/datasharing/blob/master/Pandas_Basic_Commands.ipynb\" target=\"_parent\"><img src=\"https://colab.research.google.com/assets/colab-badge.svg\" alt=\"Open In Colab\"/></a>"
      ]
    },
    {
      "cell_type": "code",
      "execution_count": 1,
      "metadata": {
        "colab": {
          "base_uri": "https://localhost:8080/"
        },
        "id": "B9PKPkOuU-SW",
        "outputId": "9db77a1b-404f-46d6-b259-7ef3d1753f22"
      },
      "outputs": [
        {
          "output_type": "stream",
          "name": "stdout",
          "text": [
            "0    1\n",
            "1    2\n",
            "2    3\n",
            "3    4\n",
            "4    5\n",
            "dtype: int64\n"
          ]
        }
      ],
      "source": [
        "import pandas as pd\n",
        "#create a series from a list\n",
        "data = [1,2,3,4,5]\n",
        "s = pd.Series(data)\n",
        "print(s)"
      ]
    },
    {
      "cell_type": "code",
      "source": [
        "print(s[2])    #access the element with label 2"
      ],
      "metadata": {
        "colab": {
          "base_uri": "https://localhost:8080/"
        },
        "id": "9uHdAq2GVUOs",
        "outputId": "33c8eecb-9bb0-4da3-8f52-c5fce734fbec"
      },
      "execution_count": 2,
      "outputs": [
        {
          "output_type": "stream",
          "name": "stdout",
          "text": [
            "3\n"
          ]
        }
      ]
    },
    {
      "cell_type": "code",
      "source": [
        "print(s.iloc[3])    #access the element at position 3"
      ],
      "metadata": {
        "colab": {
          "base_uri": "https://localhost:8080/"
        },
        "id": "-XCMuOo4VV8E",
        "outputId": "fd28ec81-dec4-4426-b138-857c4f4631f0"
      },
      "execution_count": 3,
      "outputs": [
        {
          "output_type": "stream",
          "name": "stdout",
          "text": [
            "4\n"
          ]
        }
      ]
    },
    {
      "cell_type": "code",
      "source": [
        "print(s[1:4])    #access a range of elements by label"
      ],
      "metadata": {
        "colab": {
          "base_uri": "https://localhost:8080/"
        },
        "id": "53uLQrF6Vak_",
        "outputId": "ca57b899-41d1-47fb-eb06-6614cc66e409"
      },
      "execution_count": 4,
      "outputs": [
        {
          "output_type": "stream",
          "name": "stdout",
          "text": [
            "1    2\n",
            "2    3\n",
            "3    4\n",
            "dtype: int64\n"
          ]
        }
      ]
    },
    {
      "cell_type": "code",
      "source": [
        "#create a data frame from a dictionary\n",
        "data = {'Name':['John','Jane','Jack','Jill'],\n",
        "        'Age':[20,21,22,23],\n",
        "        'City':['Chicago','Houston','Athens','Miami']}\n",
        "df = pd.DataFrame(data)\n",
        "print(df)"
      ],
      "metadata": {
        "colab": {
          "base_uri": "https://localhost:8080/"
        },
        "id": "sTTTn-EKVfwQ",
        "outputId": "576b0433-689d-42ae-c65a-41f50b9c5b64"
      },
      "execution_count": 6,
      "outputs": [
        {
          "output_type": "stream",
          "name": "stdout",
          "text": [
            "   Name  Age     City\n",
            "0  John   20  Chicago\n",
            "1  Jane   21  Houston\n",
            "2  Jack   22   Athens\n",
            "3  Jill   23    Miami\n"
          ]
        }
      ]
    },
    {
      "cell_type": "code",
      "source": [
        "print(df['Name']) #specify a column and print"
      ],
      "metadata": {
        "colab": {
          "base_uri": "https://localhost:8080/"
        },
        "id": "7-xh-t7tWPeo",
        "outputId": "69d7fecb-03ae-4df1-cb8f-c39407312bb2"
      },
      "execution_count": 7,
      "outputs": [
        {
          "output_type": "stream",
          "name": "stdout",
          "text": [
            "0    John\n",
            "1    Jane\n",
            "2    Jack\n",
            "3    Jill\n",
            "Name: Name, dtype: object\n"
          ]
        }
      ]
    },
    {
      "cell_type": "code",
      "source": [
        "print(df.iloc[2])    #access the third row by position"
      ],
      "metadata": {
        "colab": {
          "base_uri": "https://localhost:8080/"
        },
        "id": "yEXmSBkFWXlJ",
        "outputId": "f49c13a7-3aff-472f-f0d9-196f6eed0bf4"
      },
      "execution_count": 8,
      "outputs": [
        {
          "output_type": "stream",
          "name": "stdout",
          "text": [
            "Name      Jack\n",
            "Age         22\n",
            "City    Athens\n",
            "Name: 2, dtype: object\n"
          ]
        }
      ]
    },
    {
      "cell_type": "code",
      "source": [
        "print(df.loc[1])    #access the second row by label"
      ],
      "metadata": {
        "colab": {
          "base_uri": "https://localhost:8080/"
        },
        "id": "GFADyCjSX3Z5",
        "outputId": "9928ec5f-1534-49d0-a7ea-1ebec15268c8"
      },
      "execution_count": 9,
      "outputs": [
        {
          "output_type": "stream",
          "name": "stdout",
          "text": [
            "Name       Jane\n",
            "Age          21\n",
            "City    Houston\n",
            "Name: 1, dtype: object\n"
          ]
        }
      ]
    },
    {
      "cell_type": "code",
      "source": [
        "print(df[['Name', 'Age']])    #select specific columns"
      ],
      "metadata": {
        "colab": {
          "base_uri": "https://localhost:8080/"
        },
        "id": "aXgfa4aPYFTB",
        "outputId": "deb04a52-6d5e-4219-85f4-46e3cdfb0a12"
      },
      "execution_count": 11,
      "outputs": [
        {
          "output_type": "stream",
          "name": "stdout",
          "text": [
            "   Name  Age\n",
            "0  John   20\n",
            "1  Jane   21\n",
            "2  Jack   22\n",
            "3  Jill   23\n"
          ]
        }
      ]
    },
    {
      "cell_type": "code",
      "source": [
        "print(df[1:3])    #select specific rows"
      ],
      "metadata": {
        "colab": {
          "base_uri": "https://localhost:8080/"
        },
        "id": "TmzrwZazYdIF",
        "outputId": "f7492e73-bf34-4963-c883-162d1933fba5"
      },
      "execution_count": 12,
      "outputs": [
        {
          "output_type": "stream",
          "name": "stdout",
          "text": [
            "   Name  Age     City\n",
            "1  Jane   21  Houston\n",
            "2  Jack   22   Athens\n"
          ]
        }
      ]
    },
    {
      "cell_type": "code",
      "source": [],
      "metadata": {
        "id": "FxKW6lq9YuQZ"
      },
      "execution_count": null,
      "outputs": []
    }
  ]
}