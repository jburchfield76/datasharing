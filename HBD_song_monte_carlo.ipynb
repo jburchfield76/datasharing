{
  "nbformat": 4,
  "nbformat_minor": 0,
  "metadata": {
    "colab": {
      "provenance": [],
      "authorship_tag": "ABX9TyP2kIkPre1vBY/2HXCU0TRN",
      "include_colab_link": true
    },
    "kernelspec": {
      "name": "python3",
      "display_name": "Python 3"
    },
    "language_info": {
      "name": "python"
    }
  },
  "cells": [
    {
      "cell_type": "markdown",
      "metadata": {
        "id": "view-in-github",
        "colab_type": "text"
      },
      "source": [
        "<a href=\"https://colab.research.google.com/github/jburchfield76/datasharing/blob/master/HBD_song_monte_carlo.ipynb\" target=\"_parent\"><img src=\"https://colab.research.google.com/assets/colab-badge.svg\" alt=\"Open In Colab\"/></a>"
      ]
    },
    {
      "cell_type": "code",
      "execution_count": 1,
      "metadata": {
        "colab": {
          "base_uri": "https://localhost:8080/",
          "height": 216
        },
        "id": "SjiUxPrN7j0G",
        "outputId": "7fd92eb6-f428-4091-bec1-af7f21adeea6"
      },
      "outputs": [
        {
          "output_type": "error",
          "ename": "KeyboardInterrupt",
          "evalue": "",
          "traceback": [
            "\u001b[0;31m---------------------------------------------------------------------------\u001b[0m",
            "\u001b[0;31mKeyboardInterrupt\u001b[0m                         Traceback (most recent call last)",
            "\u001b[0;32m<ipython-input-1-ef4e9fcd2038>\u001b[0m in \u001b[0;36m<cell line: 0>\u001b[0;34m()\u001b[0m\n\u001b[1;32m     30\u001b[0m     \u001b[0;32mfor\u001b[0m \u001b[0mstart_time\u001b[0m \u001b[0;32min\u001b[0m \u001b[0msong_start_times\u001b[0m\u001b[0;34m:\u001b[0m\u001b[0;34m\u001b[0m\u001b[0;34m\u001b[0m\u001b[0m\n\u001b[1;32m     31\u001b[0m         \u001b[0mend_time\u001b[0m \u001b[0;34m=\u001b[0m \u001b[0mmin\u001b[0m\u001b[0;34m(\u001b[0m\u001b[0mstart_time\u001b[0m \u001b[0;34m+\u001b[0m \u001b[0msong_duration\u001b[0m\u001b[0;34m,\u001b[0m \u001b[0mseconds_in_day\u001b[0m\u001b[0;34m)\u001b[0m\u001b[0;34m\u001b[0m\u001b[0;34m\u001b[0m\u001b[0m\n\u001b[0;32m---> 32\u001b[0;31m         \u001b[0msong_activity\u001b[0m\u001b[0;34m[\u001b[0m\u001b[0mstart_time\u001b[0m\u001b[0;34m:\u001b[0m\u001b[0mend_time\u001b[0m\u001b[0;34m]\u001b[0m \u001b[0;34m+=\u001b[0m \u001b[0;36m1\u001b[0m\u001b[0;34m\u001b[0m\u001b[0;34m\u001b[0m\u001b[0m\n\u001b[0m\u001b[1;32m     33\u001b[0m \u001b[0;34m\u001b[0m\u001b[0m\n\u001b[1;32m     34\u001b[0m     \u001b[0;31m# Count seconds with at least one song\u001b[0m\u001b[0;34m\u001b[0m\u001b[0;34m\u001b[0m\u001b[0m\n",
            "\u001b[0;31mKeyboardInterrupt\u001b[0m: "
          ]
        }
      ],
      "source": [
        "import numpy as np\n",
        "import matplotlib.pyplot as plt\n",
        "\n",
        "# Simulation Parameters\n",
        "world_population = 8_000_000_000\n",
        "celebration_rate = 0.50  # 50% celebrate birthdays\n",
        "song_probability = 0.80  # 80% sing the song\n",
        "song_duration = 20  # in seconds\n",
        "seconds_in_day = 86_400  # total seconds in a day\n",
        "celebration_window_start = 12 * 3600  # Noon (in seconds)\n",
        "celebration_window_end = 22 * 3600  # 10 PM (in seconds)\n",
        "\n",
        "# Estimated number of daily celebrations\n",
        "daily_celebrations = int(world_population * celebration_rate * song_probability / 365)\n",
        "\n",
        "# Monte Carlo Simulation Parameters\n",
        "num_simulations = 1000\n",
        "song_counts_per_second = []\n",
        "\n",
        "for _ in range(num_simulations):\n",
        "    # Generate random start times for the songs within the celebration window\n",
        "    song_start_times = np.random.randint(\n",
        "        celebration_window_start, celebration_window_end, size=daily_celebrations\n",
        "    )\n",
        "\n",
        "    # Create an array to track song activity per second\n",
        "    song_activity = np.zeros(seconds_in_day)\n",
        "\n",
        "    # Mark the seconds when songs are being sung\n",
        "    for start_time in song_start_times:\n",
        "        end_time = min(start_time + song_duration, seconds_in_day)\n",
        "        song_activity[start_time:end_time] += 1\n",
        "\n",
        "    # Count seconds with at least one song\n",
        "    active_song_seconds = np.sum(song_activity > 0)\n",
        "    song_counts_per_second.append(active_song_seconds)\n",
        "\n",
        "# Calculate probability that at least one song is sung at any second\n",
        "average_active_song_seconds = np.mean(song_counts_per_second)\n",
        "probability_at_least_one_song = average_active_song_seconds / seconds_in_day\n",
        "\n",
        "print(\"Estimated probability that at any second, a Happy Birthday song is being sung:\", probability_at_least_one_song)\n",
        "\n",
        "# Visualization\n",
        "plt.hist(song_counts_per_second, bins=30, color='skyblue', edgecolor='black')\n",
        "plt.title(\"Distribution of Active Song Seconds Across Simulations\")\n",
        "plt.xlabel(\"Number of Active Seconds with Songs\")\n",
        "plt.ylabel(\"Frequency\")\n",
        "plt.show()\n"
      ]
    }
  ]
}