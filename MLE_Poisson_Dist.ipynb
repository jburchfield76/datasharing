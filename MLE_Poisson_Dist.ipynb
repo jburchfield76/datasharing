{
  "nbformat": 4,
  "nbformat_minor": 0,
  "metadata": {
    "colab": {
      "provenance": [],
      "authorship_tag": "ABX9TyPKSDWh48+GIvQ4nEYfaiDU",
      "include_colab_link": true
    },
    "kernelspec": {
      "name": "python3",
      "display_name": "Python 3"
    },
    "language_info": {
      "name": "python"
    }
  },
  "cells": [
    {
      "cell_type": "markdown",
      "metadata": {
        "id": "view-in-github",
        "colab_type": "text"
      },
      "source": [
        "<a href=\"https://colab.research.google.com/github/jburchfield76/datasharing/blob/master/MLE_Poisson_Dist.ipynb\" target=\"_parent\"><img src=\"https://colab.research.google.com/assets/colab-badge.svg\" alt=\"Open In Colab\"/></a>"
      ]
    },
    {
      "cell_type": "code",
      "execution_count": null,
      "metadata": {
        "id": "dOvPFCz_I638"
      },
      "outputs": [],
      "source": [
        "import numpy as np\n",
        "import matplotlib.pyplot as plt\n",
        "import scipy.stats as stats\n",
        "\n",
        "# Step 1: Generate synthetic data from a Poisson distribution\n",
        "np.random.seed(42)  # For reproducibility\n",
        "true_lambda = 4      # True rate parameter (mean number of events)\n",
        "n = 100              # Number of samples\n",
        "\n",
        "data = np.random.poisson(lam=true_lambda, size=n)  # Generate data\n",
        "\n",
        "# Step 2: Compute MLE for lambda\n",
        "mle_lambda = np.mean(data)  # MLE estimate for lambda (sample mean)\n",
        "\n",
        "# Print results\n",
        "print(f\"True lambda: {true_lambda}, MLE estimated lambda: {mle_lambda:.4f}\")\n",
        "\n",
        "# Step 3: Visualizing the results\n",
        "x = np.arange(0, max(data) + 1)  # Range of possible event counts\n",
        "true_pmf = stats.poisson.pmf(x, mu=true_lambda)  # True Poisson distribution\n",
        "mle_pmf = stats.poisson.pmf(x, mu=mle_lambda)  # MLE estimated Poisson distribution\n",
        "\n",
        "plt.hist(data, bins=np.arange(max(data)+2)-0.5, density=True, alpha=0.6, color='g', label=\"Sample Data\")\n",
        "plt.plot(x, true_pmf, 'r--', marker='o', label=\"True Poisson PMF\")\n",
        "plt.plot(x, mle_pmf, 'b-', marker='s', label=\"MLE Estimated Poisson PMF\")\n",
        "plt.xlabel(\"Number of Events (k)\")\n",
        "plt.ylabel(\"Probability\")\n",
        "plt.title(\"MLE Estimation of Poisson Distribution\")\n",
        "plt.legend()\n",
        "plt.grid()\n",
        "plt.show()\n"
      ]
    }
  ]
}