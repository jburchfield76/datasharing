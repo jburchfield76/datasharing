{
  "nbformat": 4,
  "nbformat_minor": 0,
  "metadata": {
    "colab": {
      "provenance": [],
      "authorship_tag": "ABX9TyNNSGnyXSdcWHtjnK3LebtT",
      "include_colab_link": true
    },
    "kernelspec": {
      "name": "python3",
      "display_name": "Python 3"
    },
    "language_info": {
      "name": "python"
    }
  },
  "cells": [
    {
      "cell_type": "markdown",
      "metadata": {
        "id": "view-in-github",
        "colab_type": "text"
      },
      "source": [
        "<a href=\"https://colab.research.google.com/github/jburchfield76/datasharing/blob/master/One_sample_Test_Stat_Z_Crit.ipynb\" target=\"_parent\"><img src=\"https://colab.research.google.com/assets/colab-badge.svg\" alt=\"Open In Colab\"/></a>"
      ]
    },
    {
      "cell_type": "code",
      "execution_count": 4,
      "metadata": {
        "colab": {
          "base_uri": "https://localhost:8080/"
        },
        "id": "BUuxPpdWYXDz",
        "outputId": "7a6ed5a1-0d05-43ee-8bd5-f35850a7e759"
      },
      "outputs": [
        {
          "output_type": "execute_result",
          "data": {
            "text/plain": [
              "0.0038"
            ]
          },
          "metadata": {},
          "execution_count": 4
        }
      ],
      "source": [
        "import scipy.stats\n",
        "test_stat = -2.67\n",
        "\n",
        "#find p-value\n",
        "round(scipy.stats.norm.sf(abs(test_stat)),4)"
      ]
    },
    {
      "cell_type": "code",
      "source": [
        "#find p-value for 2-tailed test\n",
        "test_stat = -2.67\n",
        "round(scipy.stats.norm.sf(abs(test_stat)),4)*2"
      ],
      "metadata": {
        "colab": {
          "base_uri": "https://localhost:8080/"
        },
        "id": "HONfLSNiYsPU",
        "outputId": "cf313570-af93-4b9e-caaa-d610f5790be1"
      },
      "execution_count": 5,
      "outputs": [
        {
          "output_type": "execute_result",
          "data": {
            "text/plain": [
              "0.0076"
            ]
          },
          "metadata": {},
          "execution_count": 5
        }
      ]
    },
    {
      "cell_type": "code",
      "source": [
        "alpha = .05    #significance level\n",
        "\n",
        "#find z-crit for LT test\n",
        "print(f\"The critical value for LT test is {round(scipy.stats.norm.ppf(alpha),3)}\")\n",
        "\n",
        "#find z-crit for RT test\n",
        "print(f\"The critical value for RT test is {round(scipy.stats.norm.ppf(1-alpha),3)}\")\n",
        "\n",
        "#find z-crit for 2T test\n",
        "print(f\"The critical values for 2T test are {round(-scipy.stats.norm.ppf(1-alpha/2),4)} and {round(scipy.stats.norm.ppf(1-alpha/2),4)}\")"
      ],
      "metadata": {
        "colab": {
          "base_uri": "https://localhost:8080/"
        },
        "id": "QWBFzDlnavnN",
        "outputId": "67d5c049-4035-4af0-8560-b098678bbe70"
      },
      "execution_count": 12,
      "outputs": [
        {
          "output_type": "stream",
          "name": "stdout",
          "text": [
            "The critical value for LT test is -1.645\n",
            "The critical value for RT test is 1.645\n",
            "The critical values for 2T test are -1.96 and 1.96\n"
          ]
        }
      ]
    }
  ]
}