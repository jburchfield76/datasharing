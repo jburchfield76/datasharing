{
  "nbformat": 4,
  "nbformat_minor": 0,
  "metadata": {
    "colab": {
      "provenance": [],
      "authorship_tag": "ABX9TyO7wV7luli2Lvjjcerp13S4",
      "include_colab_link": true
    },
    "kernelspec": {
      "name": "python3",
      "display_name": "Python 3"
    },
    "language_info": {
      "name": "python"
    }
  },
  "cells": [
    {
      "cell_type": "markdown",
      "metadata": {
        "id": "view-in-github",
        "colab_type": "text"
      },
      "source": [
        "<a href=\"https://colab.research.google.com/github/jburchfield76/datasharing/blob/master/Lasso_Regression.ipynb\" target=\"_parent\"><img src=\"https://colab.research.google.com/assets/colab-badge.svg\" alt=\"Open In Colab\"/></a>"
      ]
    },
    {
      "cell_type": "code",
      "source": [
        "import numpy as np\n",
        "import pandas as pd\n",
        "from sklearn.model_selection import train_test_split\n",
        "from sklearn.linear_model import LogisticRegression\n",
        "from sklearn.metrics import classification_report, accuracy_score\n",
        "\n",
        "# Generate synthetic data (or load real data)\n",
        "np.random.seed(42)\n",
        "data = pd.DataFrame({\n",
        "    'age': np.random.randint(18, 70, 100),\n",
        "    'salary': np.random.randint(30000, 120000, 100),\n",
        "    'churn': np.random.choice([0, 1], 100)  # 0 = No churn, 1 = Churn\n",
        "})\n",
        "\n",
        "# Features and target\n",
        "X = data[['age', 'salary']]\n",
        "y = data['churn']\n",
        "\n",
        "# Split into training and testing sets\n",
        "X_train, X_test, y_train, y_test = train_test_split(X, y, test_size=0.3, random_state=42)\n",
        "\n",
        "# Train logistic regression model\n",
        "model = LogisticRegression()\n",
        "model.fit(X_train, y_train)\n",
        "\n",
        "# Predict on test data\n",
        "y_pred = model.predict(X_test)\n",
        "\n",
        "# Evaluate model\n",
        "print(\"Accuracy:\", accuracy_score(y_test, y_pred))\n",
        "print(\"Classification Report:\\n\", classification_report(y_test, y_pred))\n",
        "\n",
        "from sklearn.linear_model import LogisticRegression\n",
        "from sklearn.model_selection import cross_val_score\n",
        "\n",
        "# Different values of C to test\n",
        "C_values = [0.01, 0.1, 1, 10, 100]\n",
        "\n",
        "# Store results for L1 (Lasso) and L2 (Ridge)\n",
        "results_l1 = {}\n",
        "results_l2 = {}\n",
        "\n",
        "for C in C_values:\n",
        "    # L1 (Lasso) Logistic Regression\n",
        "    l1_model = LogisticRegression(penalty='l1', solver='liblinear', C=C)  # L1 requires 'liblinear' solver\n",
        "    l1_scores = cross_val_score(l1_model, X, y, cv=10)\n",
        "    results_l1[C] = l1_scores.mean()\n",
        "\n",
        "    # L2 (Ridge) Logistic Regression\n",
        "    l2_model = LogisticRegression(penalty='l2', C=C)\n",
        "    l2_scores = cross_val_score(l2_model, X, y, cv=10)\n",
        "    results_l2[C] = l2_scores.mean()\n",
        "\n",
        "# Print results for L1 and L2\n",
        "print(\"\\nL1 (Lasso) Regularization Results:\")\n",
        "for C, accuracy in results_l1.items():\n",
        "    print(f\"C={C}: Mean Accuracy = {accuracy:.4f}\")\n",
        "\n",
        "print(\"\\nL2 (Ridge) Regularization Results:\")\n",
        "for C, accuracy in results_l2.items():\n",
        "    print(f\"C={C}: Mean Accuracy = {accuracy:.4f}\")\n"
      ],
      "metadata": {
        "colab": {
          "base_uri": "https://localhost:8080/"
        },
        "id": "_U3ieyhgUhWO",
        "outputId": "1edc1557-bb24-47f7-f8b4-2e5bc8cf231f"
      },
      "execution_count": 2,
      "outputs": [
        {
          "output_type": "stream",
          "name": "stdout",
          "text": [
            "Accuracy: 0.23333333333333334\n",
            "Classification Report:\n",
            "               precision    recall  f1-score   support\n",
            "\n",
            "           0       0.15      0.33      0.21         9\n",
            "           1       0.40      0.19      0.26        21\n",
            "\n",
            "    accuracy                           0.23        30\n",
            "   macro avg       0.28      0.26      0.23        30\n",
            "weighted avg       0.33      0.23      0.24        30\n",
            "\n",
            "\n",
            "L1 (Lasso) Regularization Results:\n",
            "C=0.01: Mean Accuracy = 0.5200\n",
            "C=0.1: Mean Accuracy = 0.4900\n",
            "C=1: Mean Accuracy = 0.4800\n",
            "C=10: Mean Accuracy = 0.4500\n",
            "C=100: Mean Accuracy = 0.4600\n",
            "\n",
            "L2 (Ridge) Regularization Results:\n",
            "C=0.01: Mean Accuracy = 0.4300\n",
            "C=0.1: Mean Accuracy = 0.4400\n",
            "C=1: Mean Accuracy = 0.4400\n",
            "C=10: Mean Accuracy = 0.4400\n",
            "C=100: Mean Accuracy = 0.4400\n"
          ]
        }
      ]
    }
  ]
}