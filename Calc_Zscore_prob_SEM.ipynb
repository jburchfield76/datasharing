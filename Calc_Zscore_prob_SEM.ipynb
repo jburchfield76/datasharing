{
  "nbformat": 4,
  "nbformat_minor": 0,
  "metadata": {
    "colab": {
      "provenance": [],
      "authorship_tag": "ABX9TyMC9swsY/ur63avSoVeoXJI",
      "include_colab_link": true
    },
    "kernelspec": {
      "name": "python3",
      "display_name": "Python 3"
    },
    "language_info": {
      "name": "python"
    }
  },
  "cells": [
    {
      "cell_type": "markdown",
      "metadata": {
        "id": "view-in-github",
        "colab_type": "text"
      },
      "source": [
        "<a href=\"https://colab.research.google.com/github/jburchfield76/datasharing/blob/master/Calc_Zscore_prob_SEM.ipynb\" target=\"_parent\"><img src=\"https://colab.research.google.com/assets/colab-badge.svg\" alt=\"Open In Colab\"/></a>"
      ]
    },
    {
      "cell_type": "code",
      "execution_count": 1,
      "metadata": {
        "id": "RZREufZ0P9ax"
      },
      "outputs": [],
      "source": [
        "import pandas as pd\n",
        "import numpy as np\n",
        "import scipy.stats as stats\n",
        "import math"
      ]
    },
    {
      "cell_type": "code",
      "source": [
        "# standard error\n",
        "mu = 98\n",
        "xbar_1 = 95\n",
        "xbar_2 = 104\n",
        "n = 4\n",
        "sigma = 12\n",
        "se = sigma / math.sqrt(n)\n",
        "\n",
        "#calculate z-scores at x=95 and x=104\n",
        "z_1 = round((xbar_1-mu)/se,2)\n",
        "z_2 = round((xbar_2-mu)/se,2)\n",
        "\n",
        "#print(z_1, z_2)\n",
        "\n",
        "#calculate cdf and probability\n",
        "cdf_1 = stats.norm.cdf(z_1)\n",
        "cdf_2 = stats.norm.cdf(z_2)\n",
        "prob = round(cdf_2 - cdf_1,4)\n",
        "\n",
        "print(prob)"
      ],
      "metadata": {
        "colab": {
          "base_uri": "https://localhost:8080/"
        },
        "id": "B2RhD776Uogs",
        "outputId": "7a6374f9-e5a4-4e19-d709-a2cff0406a45"
      },
      "execution_count": 5,
      "outputs": [
        {
          "output_type": "stream",
          "name": "stdout",
          "text": [
            "0.5328\n"
          ]
        }
      ]
    }
  ]
}