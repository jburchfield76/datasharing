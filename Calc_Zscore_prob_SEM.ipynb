{
  "nbformat": 4,
  "nbformat_minor": 0,
  "metadata": {
    "colab": {
      "provenance": [],
      "authorship_tag": "ABX9TyM8TK8a3PTDVwEMe7bIEdz0",
      "include_colab_link": true
    },
    "kernelspec": {
      "name": "python3",
      "display_name": "Python 3"
    },
    "language_info": {
      "name": "python"
    }
  },
  "cells": [
    {
      "cell_type": "markdown",
      "metadata": {
        "id": "view-in-github",
        "colab_type": "text"
      },
      "source": [
        "<a href=\"https://colab.research.google.com/github/jburchfield76/datasharing/blob/master/Calc_Zscore_prob_SEM.ipynb\" target=\"_parent\"><img src=\"https://colab.research.google.com/assets/colab-badge.svg\" alt=\"Open In Colab\"/></a>"
      ]
    },
    {
      "cell_type": "code",
      "execution_count": 1,
      "metadata": {
        "id": "RZREufZ0P9ax"
      },
      "outputs": [],
      "source": [
        "import pandas as pd\n",
        "import numpy as np\n",
        "import scipy.stats as stats\n",
        "import math"
      ]
    },
    {
      "cell_type": "code",
      "source": [
        "# standard error\n",
        "x_bar = 98\n",
        "x_1 = 95\n",
        "x_2 = 104\n",
        "n = 4\n",
        "sigma = 12\n",
        "se = sigma / math.sqrt(n)\n",
        "\n",
        "#calculate z-scores at x=95 and x=104\n",
        "z_1 = round((x_1-x_bar)/se,2)\n",
        "z_2 = round((x_2-x_bar)/se,2)\n",
        "\n",
        "#print(z_1, z_2)\n",
        "\n",
        "#calculate cdf and probability\n",
        "cdf_1 = stats.norm.cdf(z_1)\n",
        "cdf_2 = stats.norm.cdf(z_2)\n",
        "prob = round(cdf_2 - cdf_1,4)\n",
        "\n",
        "print(prob)"
      ],
      "metadata": {
        "colab": {
          "base_uri": "https://localhost:8080/"
        },
        "id": "B2RhD776Uogs",
        "outputId": "850fe18a-289d-4360-b1df-45bb247515e5"
      },
      "execution_count": 4,
      "outputs": [
        {
          "output_type": "stream",
          "name": "stdout",
          "text": [
            "0.5328\n"
          ]
        }
      ]
    }
  ]
}