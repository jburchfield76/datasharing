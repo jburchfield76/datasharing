{
  "nbformat": 4,
  "nbformat_minor": 0,
  "metadata": {
    "colab": {
      "provenance": [],
      "authorship_tag": "ABX9TyO/JTz+EbnPNJltcCOGSutN",
      "include_colab_link": true
    },
    "kernelspec": {
      "name": "python3",
      "display_name": "Python 3"
    },
    "language_info": {
      "name": "python"
    }
  },
  "cells": [
    {
      "cell_type": "markdown",
      "metadata": {
        "id": "view-in-github",
        "colab_type": "text"
      },
      "source": [
        "<a href=\"https://colab.research.google.com/github/jburchfield76/datasharing/blob/master/CFA_Bond_Valuation.ipynb\" target=\"_parent\"><img src=\"https://colab.research.google.com/assets/colab-badge.svg\" alt=\"Open In Colab\"/></a>"
      ]
    },
    {
      "cell_type": "code",
      "execution_count": 6,
      "metadata": {
        "colab": {
          "base_uri": "https://localhost:8080/"
        },
        "id": "9ssmZr8MAROU",
        "outputId": "19b77474-2a99-4338-edd0-f1b7ece05450"
      },
      "outputs": [
        {
          "output_type": "stream",
          "name": "stdout",
          "text": [
            "Bond price: $2187.70\n"
          ]
        }
      ],
      "source": [
        "def bond_price(face_value, coupon_rate, periods, ytm):\n",
        "    coupon = face_value * coupon_rate\n",
        "    pv_coupons = sum([coupon / (1 + ytm) ** t for t in range(1, periods + 1)])\n",
        "    pv_face = face_value / (1 + ytm) ** periods\n",
        "    return pv_coupons + pv_face\n",
        "\n",
        "# Example\n",
        "price = bond_price(face_value=2000, coupon_rate=0.05, periods=12, ytm=0.04)\n",
        "print(f\"Bond price: ${price:.2f}\")\n"
      ]
    }
  ]
}