{
  "nbformat": 4,
  "nbformat_minor": 0,
  "metadata": {
    "colab": {
      "provenance": [],
      "authorship_tag": "ABX9TyNCDRnIX8m4HUENeI6HAvv4",
      "include_colab_link": true
    },
    "kernelspec": {
      "name": "python3",
      "display_name": "Python 3"
    },
    "language_info": {
      "name": "python"
    }
  },
  "cells": [
    {
      "cell_type": "markdown",
      "metadata": {
        "id": "view-in-github",
        "colab_type": "text"
      },
      "source": [
        "<a href=\"https://colab.research.google.com/github/jburchfield76/datasharing/blob/master/Clean_Coerce_CSV_1.ipynb\" target=\"_parent\"><img src=\"https://colab.research.google.com/assets/colab-badge.svg\" alt=\"Open In Colab\"/></a>"
      ]
    },
    {
      "cell_type": "code",
      "execution_count": null,
      "metadata": {
        "id": "1j2KD_byTO6K"
      },
      "outputs": [],
      "source": [
        "#pipeline to clean and coerce csv file\n",
        "import pandas as pd\n",
        "\n",
        "def clean_csv_data(\n",
        "    filepath,\n",
        "    numeric_columns=None,\n",
        "    datetime_columns=None,\n",
        "    fillna_numeric=None,\n",
        "    drop_na_columns=None,\n",
        "    verbose=True\n",
        "):\n",
        "    \"\"\"\n",
        "    Load and clean a CSV file.\n",
        "\n",
        "    Parameters:\n",
        "        filepath (str): Path to the CSV file.\n",
        "        numeric_columns (list): Columns to convert to numeric.\n",
        "        datetime_columns (list): Columns to convert to datetime.\n",
        "        fillna_numeric (dict): Dictionary of {col: value} to fill NaNs.\n",
        "        drop_na_columns (list): Drop rows with NaN in these columns.\n",
        "        verbose (bool): If True, print cleaning summary.\n",
        "\n",
        "    Returns:\n",
        "        pd.DataFrame: Cleaned DataFrame.\n",
        "    \"\"\"\n",
        "\n",
        "    df = pd.read_csv(filepath)\n",
        "\n",
        "    if verbose:\n",
        "        print(f\"\\n📄 Loaded DataFrame with {df.shape[0]} rows and {df.shape[1]} columns.\")\n",
        "\n",
        "    # Coerce numeric columns\n",
        "    if numeric_columns:\n",
        "        for col in numeric_columns:\n",
        "            df[col] = pd.to_numeric(df[col], errors='coerce')\n",
        "            if verbose:\n",
        "                print(f\"🔢 Coerced '{col}' to numeric. Nulls: {df[col].isna().sum()}\")\n",
        "\n",
        "    # Coerce datetime columns\n",
        "    if datetime_columns:\n",
        "        for col in datetime_columns:\n",
        "            df[col] = pd.to_datetime(df[col], errors='coerce')\n",
        "            if verbose:\n",
        "                print(f\"🕒 Coerced '{col}' to datetime. Nulls: {df[col].isna().sum()}\")\n",
        "\n",
        "    # Fill NaNs in numeric columns\n",
        "    if fillna_numeric:\n",
        "        for col, val in fillna_numeric.items():\n",
        "            df[col] = df[col].fillna(val)\n",
        "            if verbose:\n",
        "                print(f\"💧 Filled NaNs in '{col}' with {val}.\")\n",
        "\n",
        "    # Drop rows with NaNs in specified columns\n",
        "    if drop_na_columns:\n",
        "        before = df.shape[0]\n",
        "        df = df.dropna(subset=drop_na_columns)\n",
        "        after = df.shape[0]\n",
        "        if verbose:\n",
        "            print(f\"🗑️ Dropped {before - after} rows with NaNs in {drop_na_columns}.\")\n",
        "\n",
        "    if verbose:\n",
        "        print(\"\\n✅ Cleaning complete!\\n\")\n",
        "\n",
        "    return df\n"
      ]
    },
    {
      "cell_type": "code",
      "source": [
        "#example usage\n",
        "df_clean = clean_csv_data(\n",
        "    \"your_file.csv\",\n",
        "    numeric_columns=[\"review_count\", \"rating\"],\n",
        "    datetime_columns=[\"created_at\"],\n",
        "    fillna_numeric={\"review_count\": 0},\n",
        "    drop_na_columns=[\"rating\"]\n",
        ")\n"
      ],
      "metadata": {
        "id": "CvbI9WhcTbwf"
      },
      "execution_count": null,
      "outputs": []
    }
  ]
}