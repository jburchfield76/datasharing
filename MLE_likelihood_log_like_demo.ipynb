{
  "nbformat": 4,
  "nbformat_minor": 0,
  "metadata": {
    "colab": {
      "provenance": [],
      "authorship_tag": "ABX9TyMn9nv/bt0L+ftbDA3Q2ctc",
      "include_colab_link": true
    },
    "kernelspec": {
      "name": "python3",
      "display_name": "Python 3"
    },
    "language_info": {
      "name": "python"
    }
  },
  "cells": [
    {
      "cell_type": "markdown",
      "metadata": {
        "id": "view-in-github",
        "colab_type": "text"
      },
      "source": [
        "<a href=\"https://colab.research.google.com/github/jburchfield76/datasharing/blob/master/MLE_likelihood_log_like_demo.ipynb\" target=\"_parent\"><img src=\"https://colab.research.google.com/assets/colab-badge.svg\" alt=\"Open In Colab\"/></a>"
      ]
    },
    {
      "cell_type": "code",
      "execution_count": 1,
      "metadata": {
        "colab": {
          "base_uri": "https://localhost:8080/"
        },
        "id": "34rLPoUS4HO8",
        "outputId": "965a0aae-37c9-44a3-fa4e-63daf6643792"
      },
      "outputs": [
        {
          "output_type": "stream",
          "name": "stdout",
          "text": [
            "Observed Data: [1 0 0 1 1 1 1 0 1 0]\n",
            "Likelihood L(p=0.6): 0.00119439\n",
            "Log-Likelihood logL(p=0.6): -6.7301\n"
          ]
        }
      ],
      "source": [
        "import numpy as np\n",
        "\n",
        "# Step 1: Generate Synthetic Data\n",
        "np.random.seed(42)  # Ensure reproducibility\n",
        "true_p = 0.7  # True probability of success (1)\n",
        "n = 10  # Number of trials\n",
        "\n",
        "data = np.random.binomial(n=1, p=true_p, size=n)  # Generate 10 Bernoulli trials (0s and 1s)\n",
        "print(\"Observed Data:\", data)\n",
        "\n",
        "# Step 2: Define the Likelihood Function\n",
        "def likelihood(p, data):\n",
        "    \"\"\"\n",
        "    Computes the likelihood function for a Bernoulli distribution.\n",
        "    \"\"\"\n",
        "    return np.prod([p**x * (1-p)**(1-x) for x in data])\n",
        "\n",
        "# Step 3: Define the Log-Likelihood Function\n",
        "def log_likelihood(p, data):\n",
        "    \"\"\"\n",
        "    Computes the log-likelihood function for a Bernoulli distribution.\n",
        "    \"\"\"\n",
        "    return np.sum([x * np.log(p) + (1-x) * np.log(1-p) for x in data])\n",
        "\n",
        "# Step 4: Compute Likelihood and Log-Likelihood for a Given p\n",
        "test_p = 0.6  # We estimate p (MLE would usually find the best value)\n",
        "L = likelihood(test_p, data)  # Compute likelihood\n",
        "logL = log_likelihood(test_p, data)  # Compute log-likelihood\n",
        "\n",
        "# Print results\n",
        "print(f\"Likelihood L(p={test_p}): {L:.8f}\")\n",
        "print(f\"Log-Likelihood logL(p={test_p}): {logL:.4f}\")\n"
      ]
    },
    {
      "cell_type": "code",
      "source": [],
      "metadata": {
        "id": "8Gs1TGIr4duC"
      },
      "execution_count": null,
      "outputs": []
    }
  ]
}