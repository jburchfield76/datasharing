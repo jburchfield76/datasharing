{
  "nbformat": 4,
  "nbformat_minor": 0,
  "metadata": {
    "colab": {
      "provenance": [],
      "authorship_tag": "ABX9TyOtNeQZww2Uy6YFcLEoFnYW",
      "include_colab_link": true
    },
    "kernelspec": {
      "name": "python3",
      "display_name": "Python 3"
    },
    "language_info": {
      "name": "python"
    }
  },
  "cells": [
    {
      "cell_type": "markdown",
      "metadata": {
        "id": "view-in-github",
        "colab_type": "text"
      },
      "source": [
        "<a href=\"https://colab.research.google.com/github/jburchfield76/datasharing/blob/master/Wk_4_DASC_Data_Viz.ipynb\" target=\"_parent\"><img src=\"https://colab.research.google.com/assets/colab-badge.svg\" alt=\"Open In Colab\"/></a>"
      ]
    },
    {
      "cell_type": "code",
      "execution_count": null,
      "metadata": {
        "id": "MOGVgpVpmCTM"
      },
      "outputs": [],
      "source": [
        "import matplotlib.pyplot as plt\n",
        "import seaborn as sns\n",
        "import plotly.express as px\n",
        "\n",
        "# Advanced seaborn: Pairplot\n",
        "iris = sns.load_dataset('iris')\n",
        "sns.pairplot(iris, hue='species')\n",
        "plt.show()\n",
        "\n",
        "# Interactive visualizations with Plotly\n",
        "fig = px.scatter(iris, x='sepal_width', y='sepal_length', color='species', title=\"Interactive Scatter Plot\")\n",
        "fig.show()\n"
      ]
    }
  ]
}