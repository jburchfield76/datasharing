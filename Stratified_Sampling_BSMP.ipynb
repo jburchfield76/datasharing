{
  "nbformat": 4,
  "nbformat_minor": 0,
  "metadata": {
    "colab": {
      "provenance": [],
      "authorship_tag": "ABX9TyOwXW3I31Dq/Hq/Q6FsOI6Y",
      "include_colab_link": true
    },
    "kernelspec": {
      "name": "python3",
      "display_name": "Python 3"
    },
    "language_info": {
      "name": "python"
    }
  },
  "cells": [
    {
      "cell_type": "markdown",
      "metadata": {
        "id": "view-in-github",
        "colab_type": "text"
      },
      "source": [
        "<a href=\"https://colab.research.google.com/github/jburchfield76/datasharing/blob/master/Stratified_Sampling_BSMP.ipynb\" target=\"_parent\"><img src=\"https://colab.research.google.com/assets/colab-badge.svg\" alt=\"Open In Colab\"/></a>"
      ]
    },
    {
      "cell_type": "code",
      "execution_count": null,
      "metadata": {
        "id": "gx2cNh3D12ou"
      },
      "outputs": [],
      "source": [
        "import numpy as np"
      ]
    },
    {
      "cell_type": "code",
      "source": [
        "# setup generator for reproducibility\n",
        "random_generator = np.random.default_rng(2020)"
      ],
      "metadata": {
        "id": "e9uXoYJ_1_xf"
      },
      "execution_count": null,
      "outputs": []
    },
    {
      "cell_type": "code",
      "source": [
        "population = [\n",
        "   1, \"A\", 3, 4,\n",
        "   5, 2, \"D\", 8,\n",
        "   \"C\", 7, 6, \"B\"\n",
        "]\n",
        "# group strata\n",
        "strata = {\n",
        "    'number' : [],\n",
        "    'string' : [],\n",
        "}"
      ],
      "metadata": {
        "id": "CyhaDH6w2EEl"
      },
      "execution_count": null,
      "outputs": []
    },
    {
      "cell_type": "code",
      "source": [
        "for item in population:\n",
        "    if isinstance(item, int):\n",
        "        strata['number'].append(item)\n",
        "    else:\n",
        "        strata['string'].append(item)\n",
        "\n",
        "# fraction of population to sample\n",
        "sample_fraction = 0.5\n",
        "# random sample from stata\n",
        "sampled_strata = {}\n",
        "\n",
        "for group in strata:\n",
        "    sample_size = int(\n",
        "        sample_fraction * len(strata[group])\n",
        "    )\n",
        "    sampled_strata[group] = random_generator.choice(\n",
        "            strata[group],\n",
        "            size=sample_size,\n",
        "            replace=False\n",
        "    )\n",
        "print(sampled_strata)"
      ],
      "metadata": {
        "colab": {
          "base_uri": "https://localhost:8080/"
        },
        "id": "QDCgCT6n2MAa",
        "outputId": "21f1dc12-c4a6-4586-9485-819ce0df7fd8"
      },
      "execution_count": null,
      "outputs": [
        {
          "output_type": "stream",
          "name": "stdout",
          "text": [
            "{'number': array([4, 1, 2, 8]), 'string': array(['D', 'C'], dtype='<U1')}\n"
          ]
        }
      ]
    },
    {
      "cell_type": "code",
      "source": [],
      "metadata": {
        "id": "oXpF1jHI2cpr"
      },
      "execution_count": null,
      "outputs": []
    }
  ]
}