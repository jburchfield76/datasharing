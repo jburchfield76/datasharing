{
  "nbformat": 4,
  "nbformat_minor": 0,
  "metadata": {
    "colab": {
      "provenance": [],
      "authorship_tag": "ABX9TyPpFzlclP8ZiIGoeP0G9ZtX",
      "include_colab_link": true
    },
    "kernelspec": {
      "name": "python3",
      "display_name": "Python 3"
    },
    "language_info": {
      "name": "python"
    }
  },
  "cells": [
    {
      "cell_type": "markdown",
      "metadata": {
        "id": "view-in-github",
        "colab_type": "text"
      },
      "source": [
        "<a href=\"https://colab.research.google.com/github/jburchfield76/datasharing/blob/master/MLE_Binomial.ipynb\" target=\"_parent\"><img src=\"https://colab.research.google.com/assets/colab-badge.svg\" alt=\"Open In Colab\"/></a>"
      ]
    },
    {
      "cell_type": "code",
      "execution_count": null,
      "metadata": {
        "id": "8hvIsow8J8bj"
      },
      "outputs": [],
      "source": [
        "import numpy as np\n",
        "import matplotlib.pyplot as plt\n",
        "import scipy.stats as stats\n",
        "\n",
        "# Step 1: Generate synthetic data from a Binomial distribution\n",
        "np.random.seed(42)  # For reproducibility\n",
        "n_trials = 10       # Number of trials per experiment\n",
        "true_p = 0.6        # True probability of success per trial\n",
        "N = 100             # Number of experiments\n",
        "\n",
        "data = np.random.binomial(n=n_trials, p=true_p, size=N)  # Generate Binomial outcomes\n",
        "\n",
        "# Step 2: Compute MLE for p\n",
        "mle_p = np.sum(data) / (N * n_trials)  # Total successes / total trials\n",
        "\n",
        "# Print results\n",
        "print(f\"True p: {true_p}, MLE estimated p: {mle_p:.4f}\")\n",
        "\n",
        "# Step 3: Visualizing the results\n",
        "x = np.arange(0, n_trials + 1)  # Possible outcomes (0 to n_trials)\n",
        "true_pmf = stats.binom.pmf(x, n=n_trials, p=true_p)  # True Binomial PMF\n",
        "mle_pmf = stats.binom.pmf(x, n=n_trials, p=mle_p)  # MLE estimated Binomial PMF\n",
        "\n",
        "plt.bar(x, true_pmf, alpha=0.5, color='r', label=\"True Distribution\", width=0.4)\n",
        "plt.bar(x + 0.4, mle_pmf, alpha=0.5, color='b', label=\"MLE Estimated Distribution\", width=0.4)\n",
        "plt.xlabel(\"Number of Successes\")\n",
        "plt.ylabel(\"Probability\")\n",
        "plt.title(\"MLE Estimation of Binomial Distribution\")\n",
        "plt.legend()\n",
        "plt.show()\n"
      ]
    }
  ]
}