{
  "nbformat": 4,
  "nbformat_minor": 0,
  "metadata": {
    "colab": {
      "provenance": [],
      "authorship_tag": "ABX9TyOSeVjlOPlQ+y2G0EGCApuT",
      "include_colab_link": true
    },
    "kernelspec": {
      "name": "python3",
      "display_name": "Python 3"
    },
    "language_info": {
      "name": "python"
    }
  },
  "cells": [
    {
      "cell_type": "markdown",
      "metadata": {
        "id": "view-in-github",
        "colab_type": "text"
      },
      "source": [
        "<a href=\"https://colab.research.google.com/github/jburchfield76/datasharing/blob/master/Class_Object_practice.ipynb\" target=\"_parent\"><img src=\"https://colab.research.google.com/assets/colab-badge.svg\" alt=\"Open In Colab\"/></a>"
      ]
    },
    {
      "cell_type": "code",
      "execution_count": 11,
      "metadata": {
        "colab": {
          "base_uri": "https://localhost:8080/"
        },
        "outputId": "9197f204-5ba9-4144-926e-85c4bf84bd96",
        "id": "bmSFe2n5iXpU"
      },
      "outputs": [
        {
          "output_type": "stream",
          "name": "stdout",
          "text": [
            "Brand: Toyota, Model: Tacoma, Year: 2018\n",
            "Brand: Ford, Model: Explorer, Year: 2016\n"
          ]
        }
      ],
      "source": [
        "class Car:\n",
        "    def __init__(self, brand, model, year):\n",
        "         self.brand = brand\n",
        "         self.model = model\n",
        "         self.year = year\n",
        "\n",
        "    def display_info(self):\n",
        "         print(f\"Brand: {self.brand}, Model: {self.model}, Year: {self.year}\")\n",
        "\n",
        "\n",
        "car1 = Car(\"Toyota\", \"Tacoma\", 2018)\n",
        "car2 = Car(\"Ford\", \"Explorer\", 2016)\n",
        "\n",
        "car1.display_info()\n",
        "car2.display_info()\n",
        "\n"
      ]
    },
    {
      "cell_type": "code",
      "source": [
        "class Person:\n",
        "    def __init__(self, name, age):\n",
        "        self.name = name\n",
        "        self.age = age\n",
        "\n",
        "    def greet(self):\n",
        "        print(f\"Hello, my name is {self.name} and I am {self.age} years old.\")\n",
        "\n",
        "p1 = Person(\"Jennifer\", 23)\n",
        "p2 = Person(\"Jack\", 25)\n",
        "\n",
        "p1.greet()\n",
        "p2.greet()"
      ],
      "metadata": {
        "colab": {
          "base_uri": "https://localhost:8080/"
        },
        "id": "rIRw1pK3jE9x",
        "outputId": "97634db9-b59a-4f60-a3b2-1ab571e99c29"
      },
      "execution_count": 12,
      "outputs": [
        {
          "output_type": "stream",
          "name": "stdout",
          "text": [
            "Hello, my name is Jennifer and I am 23 years old.\n",
            "Hello, my name is Jack and I am 25 years old.\n"
          ]
        }
      ]
    },
    {
      "cell_type": "code",
      "source": [
        "class Dog:\n",
        "    def __init__(self, name, breed):\n",
        "        self.name = name\n",
        "        self.breed = breed\n",
        "\n",
        "    def bark(self):\n",
        "        print(f\"{self.name} says Woof!\")\n",
        "\n",
        "    def describe_breed(self):\n",
        "        print(f\"{self.name} is a {self.breed}.\")\n",
        "\n",
        "dog1 = Dog(\"GB\", \"Australian Shepherd\")\n",
        "dog2 = Dog(\"Auggie\", \"Miniature Poodle\")\n",
        "\n",
        "dog1.bark()\n",
        "dog2.bark()\n",
        "\n",
        "dog1.describe_breed()\n",
        "dog2.describe_breed()"
      ],
      "metadata": {
        "colab": {
          "base_uri": "https://localhost:8080/"
        },
        "id": "qYupMJrVjyt7",
        "outputId": "192de39f-423a-4ac5-d27a-6050b6c2d3c5"
      },
      "execution_count": 19,
      "outputs": [
        {
          "output_type": "stream",
          "name": "stdout",
          "text": [
            "GB says Woof!\n",
            "Auggie says Woof!\n",
            "GB is a Australian Shepherd.\n",
            "Auggie is a Miniature Poodle.\n"
          ]
        }
      ]
    },
    {
      "cell_type": "code",
      "source": [
        "class BankAccount:\n",
        "    def __init__(self, account_holder, balance=0):\n",
        "        self.account_holder = account_holder\n",
        "        self.balance = balance\n",
        "\n",
        "    def deposit(self, amount):\n",
        "        self.balance += amount\n",
        "        return f\"{self.account_holder} deposited ${amount}. New balance: ${self.balance}\"\n",
        "\n",
        "    def withdraw(self, amount):\n",
        "        if amount > self.balance:\n",
        "            return \"Insufficient funds.\"\n",
        "        self.balance -= amount\n",
        "        return f\"{self.account_holder} withdrew ${amount}. New balance: ${self.balance}\"\n",
        "\n",
        "acc1 = BankAccount(\"Jason Davison\", 520)\n",
        "acc2 = BankAccount(\"Katie Jones\", 1010)\n",
        "\n",
        "print(acc1.deposit(200))  # Output: Jason Davison deposited $200. New balance: $720\n",
        "print(acc2.withdraw(500)) # Output: Katie Jones withdrew $500. New balance: $510\n",
        "\n"
      ],
      "metadata": {
        "colab": {
          "base_uri": "https://localhost:8080/"
        },
        "id": "BaKen9f2nCmo",
        "outputId": "bf9c1f7b-7f04-4e58-d6fa-f609dcbe5ea5"
      },
      "execution_count": 23,
      "outputs": [
        {
          "output_type": "stream",
          "name": "stdout",
          "text": [
            "Jason Davison deposited $200. New balance: $720\n",
            "Katie Jones withdrew $500. New balance: $510\n"
          ]
        }
      ]
    }
  ]
}